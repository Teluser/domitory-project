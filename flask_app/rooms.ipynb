{
 "metadata": {
  "language_info": {
   "codemirror_mode": {
    "name": "ipython",
    "version": 3
   },
   "file_extension": ".py",
   "mimetype": "text/x-python",
   "name": "python",
   "nbconvert_exporter": "python",
   "pygments_lexer": "ipython3",
   "version": "3.8.6-final"
  },
  "orig_nbformat": 2,
  "kernelspec": {
   "name": "Python 3.8.6 64-bit",
   "display_name": "Python 3.8.6 64-bit",
   "metadata": {
    "interpreter": {
     "hash": "767d51c1340bd893661ea55ea3124f6de3c7a262a8b4abca0554b478b1e2ff90"
    }
   }
  }
 },
 "nbformat": 4,
 "nbformat_minor": 2,
 "cells": [
  {
   "cell_type": "code",
   "execution_count": 70,
   "metadata": {},
   "outputs": [],
   "source": [
    "import numpy as np\n",
    "import pandas as pd\n",
    "import matplotlib.pyplot as plt"
   ]
  },
  {
   "cell_type": "code",
   "execution_count": 71,
   "metadata": {},
   "outputs": [],
   "source": [
    "# id = db.Column(\"room_id\", db.Integer, primary_key=True)\n",
    "#     room = Column(db.Integer, nullable=False)\n",
    "#     number_person = Column(db.Integer, nullable=False)\n",
    "#     type_room = Column(String(250), nullable=False)\n",
    "#     price_room = Column(db.Integer, nullable=False)\n",
    "#     position_room = Column(String(250), nullable=False)\n",
    "#     status_room = Column(String(250), nullable=False)"
   ]
  },
  {
   "cell_type": "code",
   "execution_count": 72,
   "metadata": {},
   "outputs": [],
   "source": [
    "room = []\n",
    "for i in range(1,6):\n",
    "    room+= [k for k in range(i*100+1, 100*i+30)] + [j for j in range(i*100+60,100*i+90)]"
   ]
  },
  {
   "cell_type": "code",
   "execution_count": 73,
   "metadata": {},
   "outputs": [],
   "source": [
    "df = pd.DataFrame({'room':room})\n",
    "df['price_room'] = 670\n",
    "df['numberDomitory'] = 1\n",
    "df['type_room'] = 'NORM'\n",
    "df['number_person'] = df['room'].apply(lambda x: 2 if x%2 else 3)\n",
    "df['gender'] = df['room'].apply(lambda x: 'MALE' if x%2 else 'FEMALE')\n",
    "df['empty_position'] =  df['number_person']\n",
    "df['status_room'] = 'OK'"
   ]
  },
  {
   "cell_type": "code",
   "execution_count": 74,
   "metadata": {},
   "outputs": [
    {
     "output_type": "execute_result",
     "data": {
      "text/plain": "   room  price_room  numberDomitory type_room  number_person  gender  \\\n0   101         670               1      NORM              2    MALE   \n1   102         670               1      NORM              3  FEMALE   \n2   103         670               1      NORM              2    MALE   \n3   104         670               1      NORM              3  FEMALE   \n4   105         670               1      NORM              2    MALE   \n\n   empty_position status_room  \n0               2          OK  \n1               3          OK  \n2               2          OK  \n3               3          OK  \n4               2          OK  ",
      "text/html": "<div>\n<style scoped>\n    .dataframe tbody tr th:only-of-type {\n        vertical-align: middle;\n    }\n\n    .dataframe tbody tr th {\n        vertical-align: top;\n    }\n\n    .dataframe thead th {\n        text-align: right;\n    }\n</style>\n<table border=\"1\" class=\"dataframe\">\n  <thead>\n    <tr style=\"text-align: right;\">\n      <th></th>\n      <th>room</th>\n      <th>price_room</th>\n      <th>numberDomitory</th>\n      <th>type_room</th>\n      <th>number_person</th>\n      <th>gender</th>\n      <th>empty_position</th>\n      <th>status_room</th>\n    </tr>\n  </thead>\n  <tbody>\n    <tr>\n      <th>0</th>\n      <td>101</td>\n      <td>670</td>\n      <td>1</td>\n      <td>NORM</td>\n      <td>2</td>\n      <td>MALE</td>\n      <td>2</td>\n      <td>OK</td>\n    </tr>\n    <tr>\n      <th>1</th>\n      <td>102</td>\n      <td>670</td>\n      <td>1</td>\n      <td>NORM</td>\n      <td>3</td>\n      <td>FEMALE</td>\n      <td>3</td>\n      <td>OK</td>\n    </tr>\n    <tr>\n      <th>2</th>\n      <td>103</td>\n      <td>670</td>\n      <td>1</td>\n      <td>NORM</td>\n      <td>2</td>\n      <td>MALE</td>\n      <td>2</td>\n      <td>OK</td>\n    </tr>\n    <tr>\n      <th>3</th>\n      <td>104</td>\n      <td>670</td>\n      <td>1</td>\n      <td>NORM</td>\n      <td>3</td>\n      <td>FEMALE</td>\n      <td>3</td>\n      <td>OK</td>\n    </tr>\n    <tr>\n      <th>4</th>\n      <td>105</td>\n      <td>670</td>\n      <td>1</td>\n      <td>NORM</td>\n      <td>2</td>\n      <td>MALE</td>\n      <td>2</td>\n      <td>OK</td>\n    </tr>\n  </tbody>\n</table>\n</div>"
     },
     "metadata": {},
     "execution_count": 74
    }
   ],
   "source": [
    "df.head()"
   ]
  },
  {
   "cell_type": "code",
   "execution_count": 75,
   "metadata": {},
   "outputs": [],
   "source": [
    "room = []\n",
    "for i in range(1,6):\n",
    "    room+= [k for k in range(1000+ i*100+1, 1000+100*i+30)] "
   ]
  },
  {
   "cell_type": "code",
   "execution_count": 76,
   "metadata": {},
   "outputs": [],
   "source": [
    "df_block = pd.DataFrame({'room':room})\n",
    "df_block['price_room'] = 1200\n",
    "df_block['numberDomitory'] = 1\n",
    "df_block['type_room'] = 'BLOCK'\n",
    "df_block['number_person'] = 2\n",
    "df_block['gender'] = df_block['room'].apply(lambda x: 'MALE' if x%2 else 'FEMALE')\n",
    "df_block['empty_position'] =  df_block['number_person']\n",
    "df_block['status_room'] = 'OK'"
   ]
  },
  {
   "cell_type": "code",
   "execution_count": 77,
   "metadata": {},
   "outputs": [
    {
     "output_type": "execute_result",
     "data": {
      "text/plain": "   room  price_room  numberDomitory type_room  number_person  gender  \\\n0  1101        1200               1     BLOCK              2    MALE   \n1  1102        1200               1     BLOCK              2  FEMALE   \n2  1103        1200               1     BLOCK              2    MALE   \n3  1104        1200               1     BLOCK              2  FEMALE   \n4  1105        1200               1     BLOCK              2    MALE   \n\n   empty_position status_room  \n0               2          OK  \n1               2          OK  \n2               2          OK  \n3               2          OK  \n4               2          OK  ",
      "text/html": "<div>\n<style scoped>\n    .dataframe tbody tr th:only-of-type {\n        vertical-align: middle;\n    }\n\n    .dataframe tbody tr th {\n        vertical-align: top;\n    }\n\n    .dataframe thead th {\n        text-align: right;\n    }\n</style>\n<table border=\"1\" class=\"dataframe\">\n  <thead>\n    <tr style=\"text-align: right;\">\n      <th></th>\n      <th>room</th>\n      <th>price_room</th>\n      <th>numberDomitory</th>\n      <th>type_room</th>\n      <th>number_person</th>\n      <th>gender</th>\n      <th>empty_position</th>\n      <th>status_room</th>\n    </tr>\n  </thead>\n  <tbody>\n    <tr>\n      <th>0</th>\n      <td>1101</td>\n      <td>1200</td>\n      <td>1</td>\n      <td>BLOCK</td>\n      <td>2</td>\n      <td>MALE</td>\n      <td>2</td>\n      <td>OK</td>\n    </tr>\n    <tr>\n      <th>1</th>\n      <td>1102</td>\n      <td>1200</td>\n      <td>1</td>\n      <td>BLOCK</td>\n      <td>2</td>\n      <td>FEMALE</td>\n      <td>2</td>\n      <td>OK</td>\n    </tr>\n    <tr>\n      <th>2</th>\n      <td>1103</td>\n      <td>1200</td>\n      <td>1</td>\n      <td>BLOCK</td>\n      <td>2</td>\n      <td>MALE</td>\n      <td>2</td>\n      <td>OK</td>\n    </tr>\n    <tr>\n      <th>3</th>\n      <td>1104</td>\n      <td>1200</td>\n      <td>1</td>\n      <td>BLOCK</td>\n      <td>2</td>\n      <td>FEMALE</td>\n      <td>2</td>\n      <td>OK</td>\n    </tr>\n    <tr>\n      <th>4</th>\n      <td>1105</td>\n      <td>1200</td>\n      <td>1</td>\n      <td>BLOCK</td>\n      <td>2</td>\n      <td>MALE</td>\n      <td>2</td>\n      <td>OK</td>\n    </tr>\n  </tbody>\n</table>\n</div>"
     },
     "metadata": {},
     "execution_count": 77
    }
   ],
   "source": [
    "df_block.head()"
   ]
  },
  {
   "cell_type": "code",
   "execution_count": 78,
   "metadata": {},
   "outputs": [],
   "source": [
    "df = pd.concat([df, df_block])"
   ]
  },
  {
   "cell_type": "code",
   "execution_count": 79,
   "metadata": {
    "tags": []
   },
   "outputs": [
    {
     "output_type": "execute_result",
     "data": {
      "text/plain": "     room  price_room  numberDomitory type_room  number_person  gender  \\\n181   405         670               1      NORM              2    MALE   \n274   569         670               1      NORM              2    MALE   \n146   329         670               1      NORM              2    MALE   \n163   376         670               1      NORM              3  FEMALE   \n75    217         670               1      NORM              2    MALE   \n48    179         670               1      NORM              2    MALE   \n80   1323        1200               1     BLOCK              2    MALE   \n196   420         670               1      NORM              3  FEMALE   \n262   527         670               1      NORM              2    MALE   \n166   379         670               1      NORM              2    MALE   \n119   302         670               1      NORM              3  FEMALE   \n265   560         670               1      NORM              3  FEMALE   \n174   387         670               1      NORM              2    MALE   \n242   507         670               1      NORM              2    MALE   \n129   312         670               1      NORM              3  FEMALE   \n245   510         670               1      NORM              3  FEMALE   \n249   514         670               1      NORM              3  FEMALE   \n30   1202        1200               1     BLOCK              2  FEMALE   \n28   1129        1200               1     BLOCK              2    MALE   \n203   427         670               1      NORM              2    MALE   \n\n     empty_position status_room  \n181               2          OK  \n274               2          OK  \n146               2          OK  \n163               3          OK  \n75                2          OK  \n48                2          OK  \n80                2          OK  \n196               3          OK  \n262               2          OK  \n166               2          OK  \n119               3          OK  \n265               3          OK  \n174               2          OK  \n242               2          OK  \n129               3          OK  \n245               3          OK  \n249               3          OK  \n30                2          OK  \n28                2          OK  \n203               2          OK  ",
      "text/html": "<div>\n<style scoped>\n    .dataframe tbody tr th:only-of-type {\n        vertical-align: middle;\n    }\n\n    .dataframe tbody tr th {\n        vertical-align: top;\n    }\n\n    .dataframe thead th {\n        text-align: right;\n    }\n</style>\n<table border=\"1\" class=\"dataframe\">\n  <thead>\n    <tr style=\"text-align: right;\">\n      <th></th>\n      <th>room</th>\n      <th>price_room</th>\n      <th>numberDomitory</th>\n      <th>type_room</th>\n      <th>number_person</th>\n      <th>gender</th>\n      <th>empty_position</th>\n      <th>status_room</th>\n    </tr>\n  </thead>\n  <tbody>\n    <tr>\n      <th>181</th>\n      <td>405</td>\n      <td>670</td>\n      <td>1</td>\n      <td>NORM</td>\n      <td>2</td>\n      <td>MALE</td>\n      <td>2</td>\n      <td>OK</td>\n    </tr>\n    <tr>\n      <th>274</th>\n      <td>569</td>\n      <td>670</td>\n      <td>1</td>\n      <td>NORM</td>\n      <td>2</td>\n      <td>MALE</td>\n      <td>2</td>\n      <td>OK</td>\n    </tr>\n    <tr>\n      <th>146</th>\n      <td>329</td>\n      <td>670</td>\n      <td>1</td>\n      <td>NORM</td>\n      <td>2</td>\n      <td>MALE</td>\n      <td>2</td>\n      <td>OK</td>\n    </tr>\n    <tr>\n      <th>163</th>\n      <td>376</td>\n      <td>670</td>\n      <td>1</td>\n      <td>NORM</td>\n      <td>3</td>\n      <td>FEMALE</td>\n      <td>3</td>\n      <td>OK</td>\n    </tr>\n    <tr>\n      <th>75</th>\n      <td>217</td>\n      <td>670</td>\n      <td>1</td>\n      <td>NORM</td>\n      <td>2</td>\n      <td>MALE</td>\n      <td>2</td>\n      <td>OK</td>\n    </tr>\n    <tr>\n      <th>48</th>\n      <td>179</td>\n      <td>670</td>\n      <td>1</td>\n      <td>NORM</td>\n      <td>2</td>\n      <td>MALE</td>\n      <td>2</td>\n      <td>OK</td>\n    </tr>\n    <tr>\n      <th>80</th>\n      <td>1323</td>\n      <td>1200</td>\n      <td>1</td>\n      <td>BLOCK</td>\n      <td>2</td>\n      <td>MALE</td>\n      <td>2</td>\n      <td>OK</td>\n    </tr>\n    <tr>\n      <th>196</th>\n      <td>420</td>\n      <td>670</td>\n      <td>1</td>\n      <td>NORM</td>\n      <td>3</td>\n      <td>FEMALE</td>\n      <td>3</td>\n      <td>OK</td>\n    </tr>\n    <tr>\n      <th>262</th>\n      <td>527</td>\n      <td>670</td>\n      <td>1</td>\n      <td>NORM</td>\n      <td>2</td>\n      <td>MALE</td>\n      <td>2</td>\n      <td>OK</td>\n    </tr>\n    <tr>\n      <th>166</th>\n      <td>379</td>\n      <td>670</td>\n      <td>1</td>\n      <td>NORM</td>\n      <td>2</td>\n      <td>MALE</td>\n      <td>2</td>\n      <td>OK</td>\n    </tr>\n    <tr>\n      <th>119</th>\n      <td>302</td>\n      <td>670</td>\n      <td>1</td>\n      <td>NORM</td>\n      <td>3</td>\n      <td>FEMALE</td>\n      <td>3</td>\n      <td>OK</td>\n    </tr>\n    <tr>\n      <th>265</th>\n      <td>560</td>\n      <td>670</td>\n      <td>1</td>\n      <td>NORM</td>\n      <td>3</td>\n      <td>FEMALE</td>\n      <td>3</td>\n      <td>OK</td>\n    </tr>\n    <tr>\n      <th>174</th>\n      <td>387</td>\n      <td>670</td>\n      <td>1</td>\n      <td>NORM</td>\n      <td>2</td>\n      <td>MALE</td>\n      <td>2</td>\n      <td>OK</td>\n    </tr>\n    <tr>\n      <th>242</th>\n      <td>507</td>\n      <td>670</td>\n      <td>1</td>\n      <td>NORM</td>\n      <td>2</td>\n      <td>MALE</td>\n      <td>2</td>\n      <td>OK</td>\n    </tr>\n    <tr>\n      <th>129</th>\n      <td>312</td>\n      <td>670</td>\n      <td>1</td>\n      <td>NORM</td>\n      <td>3</td>\n      <td>FEMALE</td>\n      <td>3</td>\n      <td>OK</td>\n    </tr>\n    <tr>\n      <th>245</th>\n      <td>510</td>\n      <td>670</td>\n      <td>1</td>\n      <td>NORM</td>\n      <td>3</td>\n      <td>FEMALE</td>\n      <td>3</td>\n      <td>OK</td>\n    </tr>\n    <tr>\n      <th>249</th>\n      <td>514</td>\n      <td>670</td>\n      <td>1</td>\n      <td>NORM</td>\n      <td>3</td>\n      <td>FEMALE</td>\n      <td>3</td>\n      <td>OK</td>\n    </tr>\n    <tr>\n      <th>30</th>\n      <td>1202</td>\n      <td>1200</td>\n      <td>1</td>\n      <td>BLOCK</td>\n      <td>2</td>\n      <td>FEMALE</td>\n      <td>2</td>\n      <td>OK</td>\n    </tr>\n    <tr>\n      <th>28</th>\n      <td>1129</td>\n      <td>1200</td>\n      <td>1</td>\n      <td>BLOCK</td>\n      <td>2</td>\n      <td>MALE</td>\n      <td>2</td>\n      <td>OK</td>\n    </tr>\n    <tr>\n      <th>203</th>\n      <td>427</td>\n      <td>670</td>\n      <td>1</td>\n      <td>NORM</td>\n      <td>2</td>\n      <td>MALE</td>\n      <td>2</td>\n      <td>OK</td>\n    </tr>\n  </tbody>\n</table>\n</div>"
     },
     "metadata": {},
     "execution_count": 79
    }
   ],
   "source": [
    "df.sample(20)"
   ]
  },
  {
   "cell_type": "code",
   "execution_count": 80,
   "metadata": {},
   "outputs": [],
   "source": [
    "df2 = df.copy()\n",
    "df2['numberDomitory'] = 2\n",
    "df3 = df.copy()\n",
    "df3['numberDomitory'] = 3"
   ]
  },
  {
   "cell_type": "code",
   "execution_count": 82,
   "metadata": {},
   "outputs": [],
   "source": [
    "df = pd.concat([df, df2,df3])"
   ]
  },
  {
   "cell_type": "code",
   "execution_count": 84,
   "metadata": {},
   "outputs": [
    {
     "output_type": "execute_result",
     "data": {
      "text/plain": "     room  price_room  numberDomitory type_room  number_person  gender  \\\n104  1418        1200               2     BLOCK              2  FEMALE   \n157   370         670               1      NORM              3  FEMALE   \n18    119         670               3      NORM              2    MALE   \n39   1211        1200               2     BLOCK              2    MALE   \n55    186         670               2      NORM              3  FEMALE   \n197   421         670               1      NORM              2    MALE   \n116  1501        1200               3     BLOCK              2    MALE   \n221   475         670               2      NORM              2    MALE   \n215   469         670               1      NORM              2    MALE   \n246   511         670               2      NORM              2    MALE   \n251   516         670               3      NORM              3  FEMALE   \n20   1121        1200               1     BLOCK              2    MALE   \n30   1202        1200               2     BLOCK              2  FEMALE   \n184   408         670               2      NORM              3  FEMALE   \n47    178         670               3      NORM              3  FEMALE   \n51   1223        1200               1     BLOCK              2    MALE   \n31    162         670               3      NORM              3  FEMALE   \n217   471         670               3      NORM              2    MALE   \n54    185         670               3      NORM              2    MALE   \n89    261         670               2      NORM              2    MALE   \n\n     empty_position status_room  \n104               2          OK  \n157               3          OK  \n18                2          OK  \n39                2          OK  \n55                3          OK  \n197               2          OK  \n116               2          OK  \n221               2          OK  \n215               2          OK  \n246               2          OK  \n251               3          OK  \n20                2          OK  \n30                2          OK  \n184               3          OK  \n47                3          OK  \n51                2          OK  \n31                3          OK  \n217               2          OK  \n54                2          OK  \n89                2          OK  ",
      "text/html": "<div>\n<style scoped>\n    .dataframe tbody tr th:only-of-type {\n        vertical-align: middle;\n    }\n\n    .dataframe tbody tr th {\n        vertical-align: top;\n    }\n\n    .dataframe thead th {\n        text-align: right;\n    }\n</style>\n<table border=\"1\" class=\"dataframe\">\n  <thead>\n    <tr style=\"text-align: right;\">\n      <th></th>\n      <th>room</th>\n      <th>price_room</th>\n      <th>numberDomitory</th>\n      <th>type_room</th>\n      <th>number_person</th>\n      <th>gender</th>\n      <th>empty_position</th>\n      <th>status_room</th>\n    </tr>\n  </thead>\n  <tbody>\n    <tr>\n      <th>104</th>\n      <td>1418</td>\n      <td>1200</td>\n      <td>2</td>\n      <td>BLOCK</td>\n      <td>2</td>\n      <td>FEMALE</td>\n      <td>2</td>\n      <td>OK</td>\n    </tr>\n    <tr>\n      <th>157</th>\n      <td>370</td>\n      <td>670</td>\n      <td>1</td>\n      <td>NORM</td>\n      <td>3</td>\n      <td>FEMALE</td>\n      <td>3</td>\n      <td>OK</td>\n    </tr>\n    <tr>\n      <th>18</th>\n      <td>119</td>\n      <td>670</td>\n      <td>3</td>\n      <td>NORM</td>\n      <td>2</td>\n      <td>MALE</td>\n      <td>2</td>\n      <td>OK</td>\n    </tr>\n    <tr>\n      <th>39</th>\n      <td>1211</td>\n      <td>1200</td>\n      <td>2</td>\n      <td>BLOCK</td>\n      <td>2</td>\n      <td>MALE</td>\n      <td>2</td>\n      <td>OK</td>\n    </tr>\n    <tr>\n      <th>55</th>\n      <td>186</td>\n      <td>670</td>\n      <td>2</td>\n      <td>NORM</td>\n      <td>3</td>\n      <td>FEMALE</td>\n      <td>3</td>\n      <td>OK</td>\n    </tr>\n    <tr>\n      <th>197</th>\n      <td>421</td>\n      <td>670</td>\n      <td>1</td>\n      <td>NORM</td>\n      <td>2</td>\n      <td>MALE</td>\n      <td>2</td>\n      <td>OK</td>\n    </tr>\n    <tr>\n      <th>116</th>\n      <td>1501</td>\n      <td>1200</td>\n      <td>3</td>\n      <td>BLOCK</td>\n      <td>2</td>\n      <td>MALE</td>\n      <td>2</td>\n      <td>OK</td>\n    </tr>\n    <tr>\n      <th>221</th>\n      <td>475</td>\n      <td>670</td>\n      <td>2</td>\n      <td>NORM</td>\n      <td>2</td>\n      <td>MALE</td>\n      <td>2</td>\n      <td>OK</td>\n    </tr>\n    <tr>\n      <th>215</th>\n      <td>469</td>\n      <td>670</td>\n      <td>1</td>\n      <td>NORM</td>\n      <td>2</td>\n      <td>MALE</td>\n      <td>2</td>\n      <td>OK</td>\n    </tr>\n    <tr>\n      <th>246</th>\n      <td>511</td>\n      <td>670</td>\n      <td>2</td>\n      <td>NORM</td>\n      <td>2</td>\n      <td>MALE</td>\n      <td>2</td>\n      <td>OK</td>\n    </tr>\n    <tr>\n      <th>251</th>\n      <td>516</td>\n      <td>670</td>\n      <td>3</td>\n      <td>NORM</td>\n      <td>3</td>\n      <td>FEMALE</td>\n      <td>3</td>\n      <td>OK</td>\n    </tr>\n    <tr>\n      <th>20</th>\n      <td>1121</td>\n      <td>1200</td>\n      <td>1</td>\n      <td>BLOCK</td>\n      <td>2</td>\n      <td>MALE</td>\n      <td>2</td>\n      <td>OK</td>\n    </tr>\n    <tr>\n      <th>30</th>\n      <td>1202</td>\n      <td>1200</td>\n      <td>2</td>\n      <td>BLOCK</td>\n      <td>2</td>\n      <td>FEMALE</td>\n      <td>2</td>\n      <td>OK</td>\n    </tr>\n    <tr>\n      <th>184</th>\n      <td>408</td>\n      <td>670</td>\n      <td>2</td>\n      <td>NORM</td>\n      <td>3</td>\n      <td>FEMALE</td>\n      <td>3</td>\n      <td>OK</td>\n    </tr>\n    <tr>\n      <th>47</th>\n      <td>178</td>\n      <td>670</td>\n      <td>3</td>\n      <td>NORM</td>\n      <td>3</td>\n      <td>FEMALE</td>\n      <td>3</td>\n      <td>OK</td>\n    </tr>\n    <tr>\n      <th>51</th>\n      <td>1223</td>\n      <td>1200</td>\n      <td>1</td>\n      <td>BLOCK</td>\n      <td>2</td>\n      <td>MALE</td>\n      <td>2</td>\n      <td>OK</td>\n    </tr>\n    <tr>\n      <th>31</th>\n      <td>162</td>\n      <td>670</td>\n      <td>3</td>\n      <td>NORM</td>\n      <td>3</td>\n      <td>FEMALE</td>\n      <td>3</td>\n      <td>OK</td>\n    </tr>\n    <tr>\n      <th>217</th>\n      <td>471</td>\n      <td>670</td>\n      <td>3</td>\n      <td>NORM</td>\n      <td>2</td>\n      <td>MALE</td>\n      <td>2</td>\n      <td>OK</td>\n    </tr>\n    <tr>\n      <th>54</th>\n      <td>185</td>\n      <td>670</td>\n      <td>3</td>\n      <td>NORM</td>\n      <td>2</td>\n      <td>MALE</td>\n      <td>2</td>\n      <td>OK</td>\n    </tr>\n    <tr>\n      <th>89</th>\n      <td>261</td>\n      <td>670</td>\n      <td>2</td>\n      <td>NORM</td>\n      <td>2</td>\n      <td>MALE</td>\n      <td>2</td>\n      <td>OK</td>\n    </tr>\n  </tbody>\n</table>\n</div>"
     },
     "metadata": {},
     "execution_count": 84
    }
   ],
   "source": [
    "df.sample(20)"
   ]
  },
  {
   "cell_type": "code",
   "execution_count": 83,
   "metadata": {},
   "outputs": [],
   "source": [
    "from sqlalchemy import create_engine\n",
    "\n",
    "disk_engine = create_engine('sqlite:///rooms.sqlite')\n",
    "df.to_sql(name='rooms', con=disk_engine,if_exists='append',  index=False)"
   ]
  },
  {
   "cell_type": "code",
   "execution_count": null,
   "metadata": {},
   "outputs": [],
   "source": []
  }
 ]
}