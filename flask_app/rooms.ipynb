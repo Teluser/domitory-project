{
 "metadata": {
  "language_info": {
   "codemirror_mode": {
    "name": "ipython",
    "version": 3
   },
   "file_extension": ".py",
   "mimetype": "text/x-python",
   "name": "python",
   "nbconvert_exporter": "python",
   "pygments_lexer": "ipython3",
   "version": "3.8.6-final"
  },
  "orig_nbformat": 2,
  "kernelspec": {
   "name": "Python 3.8.6 64-bit",
   "display_name": "Python 3.8.6 64-bit",
   "metadata": {
    "interpreter": {
     "hash": "767d51c1340bd893661ea55ea3124f6de3c7a262a8b4abca0554b478b1e2ff90"
    }
   }
  }
 },
 "nbformat": 4,
 "nbformat_minor": 2,
 "cells": [
  {
   "cell_type": "code",
   "execution_count": 1,
   "metadata": {},
   "outputs": [],
   "source": [
    "import numpy as np\n",
    "import pandas as pd\n",
    "import matplotlib.pyplot as plt"
   ]
  },
  {
   "cell_type": "code",
   "execution_count": 2,
   "metadata": {},
   "outputs": [],
   "source": [
    "# id = db.Column(\"room_id\", db.Integer, primary_key=True)\n",
    "#     room = Column(db.Integer, nullable=False)\n",
    "#     number_person = Column(db.Integer, nullable=False)\n",
    "#     type_room = Column(String(250), nullable=False)\n",
    "#     price_room = Column(db.Integer, nullable=False)\n",
    "#     position_room = Column(String(250), nullable=False)\n",
    "#     status_room = Column(String(250), nullable=False)"
   ]
  },
  {
   "cell_type": "code",
   "execution_count": 3,
   "metadata": {},
   "outputs": [],
   "source": [
    "room = []\n",
    "for i in range(1,6):\n",
    "    room+= [k for k in range(i*100+1, 100*i+30)] + [j for j in range(i*100+60,100*i+90)]"
   ]
  },
  {
   "cell_type": "code",
   "execution_count": 4,
   "metadata": {},
   "outputs": [],
   "source": [
    "df = pd.DataFrame({'room':room})\n",
    "df['price_room'] = 670\n",
    "df['numberDomitory'] = 1\n",
    "df['type_room'] = 'NORM'\n",
    "df['number_person'] = df['room'].apply(lambda x: 2 if x%2 else 3)\n",
    "df['gender'] = df['room'].apply(lambda x: 'MALE' if x%2 else 'FEMALE')\n",
    "df['empty_position'] =  df['number_person']\n",
    "df['status_room'] = 'OK'"
   ]
  },
  {
   "cell_type": "code",
   "execution_count": 5,
   "metadata": {},
   "outputs": [
    {
     "output_type": "execute_result",
     "data": {
      "text/plain": [
       "   room  price_room  numberDomitory type_room  number_person  gender  \\\n",
       "0   101         670               1      NORM              2    MALE   \n",
       "1   102         670               1      NORM              3  FEMALE   \n",
       "2   103         670               1      NORM              2    MALE   \n",
       "3   104         670               1      NORM              3  FEMALE   \n",
       "4   105         670               1      NORM              2    MALE   \n",
       "\n",
       "   empty_position status_room  \n",
       "0               2          OK  \n",
       "1               3          OK  \n",
       "2               2          OK  \n",
       "3               3          OK  \n",
       "4               2          OK  "
      ],
      "text/html": "<div>\n<style scoped>\n    .dataframe tbody tr th:only-of-type {\n        vertical-align: middle;\n    }\n\n    .dataframe tbody tr th {\n        vertical-align: top;\n    }\n\n    .dataframe thead th {\n        text-align: right;\n    }\n</style>\n<table border=\"1\" class=\"dataframe\">\n  <thead>\n    <tr style=\"text-align: right;\">\n      <th></th>\n      <th>room</th>\n      <th>price_room</th>\n      <th>numberDomitory</th>\n      <th>type_room</th>\n      <th>number_person</th>\n      <th>gender</th>\n      <th>empty_position</th>\n      <th>status_room</th>\n    </tr>\n  </thead>\n  <tbody>\n    <tr>\n      <th>0</th>\n      <td>101</td>\n      <td>670</td>\n      <td>1</td>\n      <td>NORM</td>\n      <td>2</td>\n      <td>MALE</td>\n      <td>2</td>\n      <td>OK</td>\n    </tr>\n    <tr>\n      <th>1</th>\n      <td>102</td>\n      <td>670</td>\n      <td>1</td>\n      <td>NORM</td>\n      <td>3</td>\n      <td>FEMALE</td>\n      <td>3</td>\n      <td>OK</td>\n    </tr>\n    <tr>\n      <th>2</th>\n      <td>103</td>\n      <td>670</td>\n      <td>1</td>\n      <td>NORM</td>\n      <td>2</td>\n      <td>MALE</td>\n      <td>2</td>\n      <td>OK</td>\n    </tr>\n    <tr>\n      <th>3</th>\n      <td>104</td>\n      <td>670</td>\n      <td>1</td>\n      <td>NORM</td>\n      <td>3</td>\n      <td>FEMALE</td>\n      <td>3</td>\n      <td>OK</td>\n    </tr>\n    <tr>\n      <th>4</th>\n      <td>105</td>\n      <td>670</td>\n      <td>1</td>\n      <td>NORM</td>\n      <td>2</td>\n      <td>MALE</td>\n      <td>2</td>\n      <td>OK</td>\n    </tr>\n  </tbody>\n</table>\n</div>"
     },
     "metadata": {},
     "execution_count": 5
    }
   ],
   "source": [
    "df.head()"
   ]
  },
  {
   "cell_type": "code",
   "execution_count": 6,
   "metadata": {},
   "outputs": [],
   "source": [
    "room = []\n",
    "for i in range(1,6):\n",
    "    room+= [k for k in range(1000+ i*100+1, 1000+100*i+30)] "
   ]
  },
  {
   "cell_type": "code",
   "execution_count": 7,
   "metadata": {},
   "outputs": [],
   "source": [
    "df_block = pd.DataFrame({'room':room})\n",
    "df_block['price_room'] = 1200\n",
    "df_block['numberDomitory'] = 1\n",
    "df_block['type_room'] = 'BLOCK'\n",
    "df_block['number_person'] = 2\n",
    "df_block['gender'] = df_block['room'].apply(lambda x: 'MALE' if x%2 else 'FEMALE')\n",
    "df_block['empty_position'] =  df_block['number_person']\n",
    "df_block['status_room'] = 'OK'"
   ]
  },
  {
   "cell_type": "code",
   "execution_count": 8,
   "metadata": {},
   "outputs": [
    {
     "output_type": "execute_result",
     "data": {
      "text/plain": [
       "   room  price_room  numberDomitory type_room  number_person  gender  \\\n",
       "0  1101        1200               1     BLOCK              2    MALE   \n",
       "1  1102        1200               1     BLOCK              2  FEMALE   \n",
       "2  1103        1200               1     BLOCK              2    MALE   \n",
       "3  1104        1200               1     BLOCK              2  FEMALE   \n",
       "4  1105        1200               1     BLOCK              2    MALE   \n",
       "\n",
       "   empty_position status_room  \n",
       "0               2          OK  \n",
       "1               2          OK  \n",
       "2               2          OK  \n",
       "3               2          OK  \n",
       "4               2          OK  "
      ],
      "text/html": "<div>\n<style scoped>\n    .dataframe tbody tr th:only-of-type {\n        vertical-align: middle;\n    }\n\n    .dataframe tbody tr th {\n        vertical-align: top;\n    }\n\n    .dataframe thead th {\n        text-align: right;\n    }\n</style>\n<table border=\"1\" class=\"dataframe\">\n  <thead>\n    <tr style=\"text-align: right;\">\n      <th></th>\n      <th>room</th>\n      <th>price_room</th>\n      <th>numberDomitory</th>\n      <th>type_room</th>\n      <th>number_person</th>\n      <th>gender</th>\n      <th>empty_position</th>\n      <th>status_room</th>\n    </tr>\n  </thead>\n  <tbody>\n    <tr>\n      <th>0</th>\n      <td>1101</td>\n      <td>1200</td>\n      <td>1</td>\n      <td>BLOCK</td>\n      <td>2</td>\n      <td>MALE</td>\n      <td>2</td>\n      <td>OK</td>\n    </tr>\n    <tr>\n      <th>1</th>\n      <td>1102</td>\n      <td>1200</td>\n      <td>1</td>\n      <td>BLOCK</td>\n      <td>2</td>\n      <td>FEMALE</td>\n      <td>2</td>\n      <td>OK</td>\n    </tr>\n    <tr>\n      <th>2</th>\n      <td>1103</td>\n      <td>1200</td>\n      <td>1</td>\n      <td>BLOCK</td>\n      <td>2</td>\n      <td>MALE</td>\n      <td>2</td>\n      <td>OK</td>\n    </tr>\n    <tr>\n      <th>3</th>\n      <td>1104</td>\n      <td>1200</td>\n      <td>1</td>\n      <td>BLOCK</td>\n      <td>2</td>\n      <td>FEMALE</td>\n      <td>2</td>\n      <td>OK</td>\n    </tr>\n    <tr>\n      <th>4</th>\n      <td>1105</td>\n      <td>1200</td>\n      <td>1</td>\n      <td>BLOCK</td>\n      <td>2</td>\n      <td>MALE</td>\n      <td>2</td>\n      <td>OK</td>\n    </tr>\n  </tbody>\n</table>\n</div>"
     },
     "metadata": {},
     "execution_count": 8
    }
   ],
   "source": [
    "df_block.head()"
   ]
  },
  {
   "cell_type": "code",
   "execution_count": 9,
   "metadata": {},
   "outputs": [],
   "source": [
    "df = pd.concat([df, df_block])"
   ]
  },
  {
   "cell_type": "code",
   "execution_count": 10,
   "metadata": {
    "tags": []
   },
   "outputs": [
    {
     "output_type": "execute_result",
     "data": {
      "text/plain": [
       "     room  price_room  numberDomitory type_room  number_person  gender  \\\n",
       "144   327         670               1      NORM              2    MALE   \n",
       "70    212         670               1      NORM              3  FEMALE   \n",
       "74    216         670               1      NORM              3  FEMALE   \n",
       "113  1427        1200               1     BLOCK              2    MALE   \n",
       "138   321         670               1      NORM              2    MALE   \n",
       "120  1505        1200               1     BLOCK              2    MALE   \n",
       "2     103         670               1      NORM              2    MALE   \n",
       "116   288         670               1      NORM              3  FEMALE   \n",
       "25    126         670               1      NORM              3  FEMALE   \n",
       "15   1116        1200               1     BLOCK              2  FEMALE   \n",
       "141   324         670               1      NORM              3  FEMALE   \n",
       "182   406         670               1      NORM              3  FEMALE   \n",
       "5     106         670               1      NORM              3  FEMALE   \n",
       "67    209         670               1      NORM              2    MALE   \n",
       "158   371         670               1      NORM              2    MALE   \n",
       "164   377         670               1      NORM              2    MALE   \n",
       "277   572         670               1      NORM              3  FEMALE   \n",
       "120   303         670               1      NORM              2    MALE   \n",
       "220   474         670               1      NORM              3  FEMALE   \n",
       "290   585         670               1      NORM              2    MALE   \n",
       "\n",
       "     empty_position status_room  \n",
       "144               2          OK  \n",
       "70                3          OK  \n",
       "74                3          OK  \n",
       "113               2          OK  \n",
       "138               2          OK  \n",
       "120               2          OK  \n",
       "2                 2          OK  \n",
       "116               3          OK  \n",
       "25                3          OK  \n",
       "15                2          OK  \n",
       "141               3          OK  \n",
       "182               3          OK  \n",
       "5                 3          OK  \n",
       "67                2          OK  \n",
       "158               2          OK  \n",
       "164               2          OK  \n",
       "277               3          OK  \n",
       "120               2          OK  \n",
       "220               3          OK  \n",
       "290               2          OK  "
      ],
      "text/html": "<div>\n<style scoped>\n    .dataframe tbody tr th:only-of-type {\n        vertical-align: middle;\n    }\n\n    .dataframe tbody tr th {\n        vertical-align: top;\n    }\n\n    .dataframe thead th {\n        text-align: right;\n    }\n</style>\n<table border=\"1\" class=\"dataframe\">\n  <thead>\n    <tr style=\"text-align: right;\">\n      <th></th>\n      <th>room</th>\n      <th>price_room</th>\n      <th>numberDomitory</th>\n      <th>type_room</th>\n      <th>number_person</th>\n      <th>gender</th>\n      <th>empty_position</th>\n      <th>status_room</th>\n    </tr>\n  </thead>\n  <tbody>\n    <tr>\n      <th>144</th>\n      <td>327</td>\n      <td>670</td>\n      <td>1</td>\n      <td>NORM</td>\n      <td>2</td>\n      <td>MALE</td>\n      <td>2</td>\n      <td>OK</td>\n    </tr>\n    <tr>\n      <th>70</th>\n      <td>212</td>\n      <td>670</td>\n      <td>1</td>\n      <td>NORM</td>\n      <td>3</td>\n      <td>FEMALE</td>\n      <td>3</td>\n      <td>OK</td>\n    </tr>\n    <tr>\n      <th>74</th>\n      <td>216</td>\n      <td>670</td>\n      <td>1</td>\n      <td>NORM</td>\n      <td>3</td>\n      <td>FEMALE</td>\n      <td>3</td>\n      <td>OK</td>\n    </tr>\n    <tr>\n      <th>113</th>\n      <td>1427</td>\n      <td>1200</td>\n      <td>1</td>\n      <td>BLOCK</td>\n      <td>2</td>\n      <td>MALE</td>\n      <td>2</td>\n      <td>OK</td>\n    </tr>\n    <tr>\n      <th>138</th>\n      <td>321</td>\n      <td>670</td>\n      <td>1</td>\n      <td>NORM</td>\n      <td>2</td>\n      <td>MALE</td>\n      <td>2</td>\n      <td>OK</td>\n    </tr>\n    <tr>\n      <th>120</th>\n      <td>1505</td>\n      <td>1200</td>\n      <td>1</td>\n      <td>BLOCK</td>\n      <td>2</td>\n      <td>MALE</td>\n      <td>2</td>\n      <td>OK</td>\n    </tr>\n    <tr>\n      <th>2</th>\n      <td>103</td>\n      <td>670</td>\n      <td>1</td>\n      <td>NORM</td>\n      <td>2</td>\n      <td>MALE</td>\n      <td>2</td>\n      <td>OK</td>\n    </tr>\n    <tr>\n      <th>116</th>\n      <td>288</td>\n      <td>670</td>\n      <td>1</td>\n      <td>NORM</td>\n      <td>3</td>\n      <td>FEMALE</td>\n      <td>3</td>\n      <td>OK</td>\n    </tr>\n    <tr>\n      <th>25</th>\n      <td>126</td>\n      <td>670</td>\n      <td>1</td>\n      <td>NORM</td>\n      <td>3</td>\n      <td>FEMALE</td>\n      <td>3</td>\n      <td>OK</td>\n    </tr>\n    <tr>\n      <th>15</th>\n      <td>1116</td>\n      <td>1200</td>\n      <td>1</td>\n      <td>BLOCK</td>\n      <td>2</td>\n      <td>FEMALE</td>\n      <td>2</td>\n      <td>OK</td>\n    </tr>\n    <tr>\n      <th>141</th>\n      <td>324</td>\n      <td>670</td>\n      <td>1</td>\n      <td>NORM</td>\n      <td>3</td>\n      <td>FEMALE</td>\n      <td>3</td>\n      <td>OK</td>\n    </tr>\n    <tr>\n      <th>182</th>\n      <td>406</td>\n      <td>670</td>\n      <td>1</td>\n      <td>NORM</td>\n      <td>3</td>\n      <td>FEMALE</td>\n      <td>3</td>\n      <td>OK</td>\n    </tr>\n    <tr>\n      <th>5</th>\n      <td>106</td>\n      <td>670</td>\n      <td>1</td>\n      <td>NORM</td>\n      <td>3</td>\n      <td>FEMALE</td>\n      <td>3</td>\n      <td>OK</td>\n    </tr>\n    <tr>\n      <th>67</th>\n      <td>209</td>\n      <td>670</td>\n      <td>1</td>\n      <td>NORM</td>\n      <td>2</td>\n      <td>MALE</td>\n      <td>2</td>\n      <td>OK</td>\n    </tr>\n    <tr>\n      <th>158</th>\n      <td>371</td>\n      <td>670</td>\n      <td>1</td>\n      <td>NORM</td>\n      <td>2</td>\n      <td>MALE</td>\n      <td>2</td>\n      <td>OK</td>\n    </tr>\n    <tr>\n      <th>164</th>\n      <td>377</td>\n      <td>670</td>\n      <td>1</td>\n      <td>NORM</td>\n      <td>2</td>\n      <td>MALE</td>\n      <td>2</td>\n      <td>OK</td>\n    </tr>\n    <tr>\n      <th>277</th>\n      <td>572</td>\n      <td>670</td>\n      <td>1</td>\n      <td>NORM</td>\n      <td>3</td>\n      <td>FEMALE</td>\n      <td>3</td>\n      <td>OK</td>\n    </tr>\n    <tr>\n      <th>120</th>\n      <td>303</td>\n      <td>670</td>\n      <td>1</td>\n      <td>NORM</td>\n      <td>2</td>\n      <td>MALE</td>\n      <td>2</td>\n      <td>OK</td>\n    </tr>\n    <tr>\n      <th>220</th>\n      <td>474</td>\n      <td>670</td>\n      <td>1</td>\n      <td>NORM</td>\n      <td>3</td>\n      <td>FEMALE</td>\n      <td>3</td>\n      <td>OK</td>\n    </tr>\n    <tr>\n      <th>290</th>\n      <td>585</td>\n      <td>670</td>\n      <td>1</td>\n      <td>NORM</td>\n      <td>2</td>\n      <td>MALE</td>\n      <td>2</td>\n      <td>OK</td>\n    </tr>\n  </tbody>\n</table>\n</div>"
     },
     "metadata": {},
     "execution_count": 10
    }
   ],
   "source": [
    "df.sample(20)"
   ]
  },
  {
   "cell_type": "code",
   "execution_count": 11,
   "metadata": {},
   "outputs": [],
   "source": [
    "df2 = df.copy()\n",
    "df2['numberDomitory'] = 2\n",
    "df3 = df.copy()\n",
    "df3['numberDomitory'] = 3"
   ]
  },
  {
   "cell_type": "code",
   "execution_count": 12,
   "metadata": {},
   "outputs": [],
   "source": [
    "df = pd.concat([df, df2,df3])"
   ]
  },
  {
   "cell_type": "code",
   "execution_count": 13,
   "metadata": {},
   "outputs": [],
   "source": [
    "df['room_id'] = range(len(df))"
   ]
  },
  {
   "cell_type": "code",
   "execution_count": 14,
   "metadata": {},
   "outputs": [
    {
     "output_type": "execute_result",
     "data": {
      "text/plain": [
       "     room  price_room  numberDomitory type_room  number_person  gender  \\\n",
       "89   1403        1200               2     BLOCK              2    MALE   \n",
       "28   1129        1200               2     BLOCK              2    MALE   \n",
       "109  1423        1200               2     BLOCK              2    MALE   \n",
       "28    129         670               2      NORM              2    MALE   \n",
       "88   1402        1200               1     BLOCK              2  FEMALE   \n",
       "54    185         670               1      NORM              2    MALE   \n",
       "134   317         670               1      NORM              2    MALE   \n",
       "16   1117        1200               1     BLOCK              2    MALE   \n",
       "59   1302        1200               2     BLOCK              2  FEMALE   \n",
       "15    116         670               3      NORM              3  FEMALE   \n",
       "104  1418        1200               1     BLOCK              2  FEMALE   \n",
       "203   427         670               3      NORM              2    MALE   \n",
       "55   1227        1200               3     BLOCK              2    MALE   \n",
       "224   478         670               1      NORM              3  FEMALE   \n",
       "176   389         670               2      NORM              2    MALE   \n",
       "118   301         670               1      NORM              2    MALE   \n",
       "164   377         670               3      NORM              2    MALE   \n",
       "98    270         670               1      NORM              3  FEMALE   \n",
       "257   522         670               1      NORM              3  FEMALE   \n",
       "200   424         670               3      NORM              3  FEMALE   \n",
       "\n",
       "     empty_position status_room  room_id  \n",
       "89                2          OK      824  \n",
       "28                2          OK      763  \n",
       "109               2          OK      844  \n",
       "28                2          OK      468  \n",
       "88                2          OK      383  \n",
       "54                2          OK       54  \n",
       "134               2          OK      134  \n",
       "16                2          OK      311  \n",
       "59                2          OK      794  \n",
       "15                3          OK      895  \n",
       "104               2          OK      399  \n",
       "203               2          OK     1083  \n",
       "55                2          OK     1230  \n",
       "224               3          OK      224  \n",
       "176               2          OK      616  \n",
       "118               2          OK      118  \n",
       "164               2          OK     1044  \n",
       "98                3          OK       98  \n",
       "257               3          OK      257  \n",
       "200               3          OK     1080  "
      ],
      "text/html": "<div>\n<style scoped>\n    .dataframe tbody tr th:only-of-type {\n        vertical-align: middle;\n    }\n\n    .dataframe tbody tr th {\n        vertical-align: top;\n    }\n\n    .dataframe thead th {\n        text-align: right;\n    }\n</style>\n<table border=\"1\" class=\"dataframe\">\n  <thead>\n    <tr style=\"text-align: right;\">\n      <th></th>\n      <th>room</th>\n      <th>price_room</th>\n      <th>numberDomitory</th>\n      <th>type_room</th>\n      <th>number_person</th>\n      <th>gender</th>\n      <th>empty_position</th>\n      <th>status_room</th>\n      <th>room_id</th>\n    </tr>\n  </thead>\n  <tbody>\n    <tr>\n      <th>89</th>\n      <td>1403</td>\n      <td>1200</td>\n      <td>2</td>\n      <td>BLOCK</td>\n      <td>2</td>\n      <td>MALE</td>\n      <td>2</td>\n      <td>OK</td>\n      <td>824</td>\n    </tr>\n    <tr>\n      <th>28</th>\n      <td>1129</td>\n      <td>1200</td>\n      <td>2</td>\n      <td>BLOCK</td>\n      <td>2</td>\n      <td>MALE</td>\n      <td>2</td>\n      <td>OK</td>\n      <td>763</td>\n    </tr>\n    <tr>\n      <th>109</th>\n      <td>1423</td>\n      <td>1200</td>\n      <td>2</td>\n      <td>BLOCK</td>\n      <td>2</td>\n      <td>MALE</td>\n      <td>2</td>\n      <td>OK</td>\n      <td>844</td>\n    </tr>\n    <tr>\n      <th>28</th>\n      <td>129</td>\n      <td>670</td>\n      <td>2</td>\n      <td>NORM</td>\n      <td>2</td>\n      <td>MALE</td>\n      <td>2</td>\n      <td>OK</td>\n      <td>468</td>\n    </tr>\n    <tr>\n      <th>88</th>\n      <td>1402</td>\n      <td>1200</td>\n      <td>1</td>\n      <td>BLOCK</td>\n      <td>2</td>\n      <td>FEMALE</td>\n      <td>2</td>\n      <td>OK</td>\n      <td>383</td>\n    </tr>\n    <tr>\n      <th>54</th>\n      <td>185</td>\n      <td>670</td>\n      <td>1</td>\n      <td>NORM</td>\n      <td>2</td>\n      <td>MALE</td>\n      <td>2</td>\n      <td>OK</td>\n      <td>54</td>\n    </tr>\n    <tr>\n      <th>134</th>\n      <td>317</td>\n      <td>670</td>\n      <td>1</td>\n      <td>NORM</td>\n      <td>2</td>\n      <td>MALE</td>\n      <td>2</td>\n      <td>OK</td>\n      <td>134</td>\n    </tr>\n    <tr>\n      <th>16</th>\n      <td>1117</td>\n      <td>1200</td>\n      <td>1</td>\n      <td>BLOCK</td>\n      <td>2</td>\n      <td>MALE</td>\n      <td>2</td>\n      <td>OK</td>\n      <td>311</td>\n    </tr>\n    <tr>\n      <th>59</th>\n      <td>1302</td>\n      <td>1200</td>\n      <td>2</td>\n      <td>BLOCK</td>\n      <td>2</td>\n      <td>FEMALE</td>\n      <td>2</td>\n      <td>OK</td>\n      <td>794</td>\n    </tr>\n    <tr>\n      <th>15</th>\n      <td>116</td>\n      <td>670</td>\n      <td>3</td>\n      <td>NORM</td>\n      <td>3</td>\n      <td>FEMALE</td>\n      <td>3</td>\n      <td>OK</td>\n      <td>895</td>\n    </tr>\n    <tr>\n      <th>104</th>\n      <td>1418</td>\n      <td>1200</td>\n      <td>1</td>\n      <td>BLOCK</td>\n      <td>2</td>\n      <td>FEMALE</td>\n      <td>2</td>\n      <td>OK</td>\n      <td>399</td>\n    </tr>\n    <tr>\n      <th>203</th>\n      <td>427</td>\n      <td>670</td>\n      <td>3</td>\n      <td>NORM</td>\n      <td>2</td>\n      <td>MALE</td>\n      <td>2</td>\n      <td>OK</td>\n      <td>1083</td>\n    </tr>\n    <tr>\n      <th>55</th>\n      <td>1227</td>\n      <td>1200</td>\n      <td>3</td>\n      <td>BLOCK</td>\n      <td>2</td>\n      <td>MALE</td>\n      <td>2</td>\n      <td>OK</td>\n      <td>1230</td>\n    </tr>\n    <tr>\n      <th>224</th>\n      <td>478</td>\n      <td>670</td>\n      <td>1</td>\n      <td>NORM</td>\n      <td>3</td>\n      <td>FEMALE</td>\n      <td>3</td>\n      <td>OK</td>\n      <td>224</td>\n    </tr>\n    <tr>\n      <th>176</th>\n      <td>389</td>\n      <td>670</td>\n      <td>2</td>\n      <td>NORM</td>\n      <td>2</td>\n      <td>MALE</td>\n      <td>2</td>\n      <td>OK</td>\n      <td>616</td>\n    </tr>\n    <tr>\n      <th>118</th>\n      <td>301</td>\n      <td>670</td>\n      <td>1</td>\n      <td>NORM</td>\n      <td>2</td>\n      <td>MALE</td>\n      <td>2</td>\n      <td>OK</td>\n      <td>118</td>\n    </tr>\n    <tr>\n      <th>164</th>\n      <td>377</td>\n      <td>670</td>\n      <td>3</td>\n      <td>NORM</td>\n      <td>2</td>\n      <td>MALE</td>\n      <td>2</td>\n      <td>OK</td>\n      <td>1044</td>\n    </tr>\n    <tr>\n      <th>98</th>\n      <td>270</td>\n      <td>670</td>\n      <td>1</td>\n      <td>NORM</td>\n      <td>3</td>\n      <td>FEMALE</td>\n      <td>3</td>\n      <td>OK</td>\n      <td>98</td>\n    </tr>\n    <tr>\n      <th>257</th>\n      <td>522</td>\n      <td>670</td>\n      <td>1</td>\n      <td>NORM</td>\n      <td>3</td>\n      <td>FEMALE</td>\n      <td>3</td>\n      <td>OK</td>\n      <td>257</td>\n    </tr>\n    <tr>\n      <th>200</th>\n      <td>424</td>\n      <td>670</td>\n      <td>3</td>\n      <td>NORM</td>\n      <td>3</td>\n      <td>FEMALE</td>\n      <td>3</td>\n      <td>OK</td>\n      <td>1080</td>\n    </tr>\n  </tbody>\n</table>\n</div>"
     },
     "metadata": {},
     "execution_count": 14
    }
   ],
   "source": [
    "df.sample(20)"
   ]
  },
  {
   "cell_type": "code",
   "execution_count": 15,
   "metadata": {},
   "outputs": [],
   "source": [
    "from sqlalchemy import create_engine\n",
    "\n",
    "disk_engine = create_engine('sqlite:///rooms.sqlite')\n",
    "df.to_sql(name='rooms', con=disk_engine,if_exists='append',  index=False)"
   ]
  },
  {
   "cell_type": "code",
   "execution_count": 16,
   "metadata": {},
   "outputs": [
    {
     "output_type": "stream",
     "name": "stdout",
     "text": [
      "Defaulting to user installation because normal site-packages is not writeable\n",
      "Requirement already satisfied: sqlalchemy in /home/manhlab/.local/lib/python3.8/site-packages (1.3.20)\n"
     ]
    }
   ],
   "source": [
    "!pip install sqlalchemy"
   ]
  },
  {
   "cell_type": "code",
   "execution_count": null,
   "metadata": {},
   "outputs": [],
   "source": []
  }
 ]
}