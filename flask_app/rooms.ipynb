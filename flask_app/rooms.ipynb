{
 "metadata": {
  "language_info": {
   "codemirror_mode": {
    "name": "ipython",
    "version": 3
   },
   "file_extension": ".py",
   "mimetype": "text/x-python",
   "name": "python",
   "nbconvert_exporter": "python",
   "pygments_lexer": "ipython3",
   "version": "3.8.6-final"
  },
  "orig_nbformat": 2,
  "kernelspec": {
   "name": "Python 3.8.6 64-bit",
   "display_name": "Python 3.8.6 64-bit",
   "metadata": {
    "interpreter": {
     "hash": "767d51c1340bd893661ea55ea3124f6de3c7a262a8b4abca0554b478b1e2ff90"
    }
   }
  }
 },
 "nbformat": 4,
 "nbformat_minor": 2,
 "cells": [
  {
   "cell_type": "code",
   "execution_count": 1,
   "metadata": {},
   "outputs": [],
   "source": [
    "import numpy as np\n",
    "import pandas as pd\n",
    "import matplotlib.pyplot as plt"
   ]
  },
  {
   "cell_type": "code",
   "execution_count": 2,
   "metadata": {},
   "outputs": [],
   "source": [
    "# id = db.Column(\"room_id\", db.Integer, primary_key=True)\n",
    "#     room = Column(db.Integer, nullable=False)\n",
    "#     number_person = Column(db.Integer, nullable=False)\n",
    "#     type_room = Column(String(250), nullable=False)\n",
    "#     price_room = Column(db.Integer, nullable=False)\n",
    "#     position_room = Column(String(250), nullable=False)\n",
    "#     status_room = Column(String(250), nullable=False)"
   ]
  },
  {
   "cell_type": "code",
   "execution_count": 3,
   "metadata": {},
   "outputs": [],
   "source": [
    "room = []\n",
    "for i in range(1,6):\n",
    "    room+= [k for k in range(i*100+1, 100*i+30)] + [j for j in range(i*100+60,100*i+90)]"
   ]
  },
  {
   "cell_type": "code",
   "execution_count": 4,
   "metadata": {},
   "outputs": [],
   "source": [
    "df = pd.DataFrame({'room':room})\n",
    "df['price_room'] = 670\n",
    "df['numberDomitory'] = 1\n",
    "df['type_room'] = 'NORM'\n",
    "df['number_person'] = df['room'].apply(lambda x: 2 if x%2 else 3)\n",
    "df['gender'] = df['room'].apply(lambda x: 'MALE' if x%2 else 'FEMALE')\n",
    "df['empty_position'] =  df['number_person']\n",
    "df['status_room'] = 'OK'"
   ]
  },
  {
   "cell_type": "code",
   "execution_count": 5,
   "metadata": {},
   "outputs": [
    {
     "output_type": "execute_result",
     "data": {
      "text/plain": [
       "   room  price_room  numberDomitory type_room  number_person  gender  \\\n",
       "0   101         670               1      NORM              2    MALE   \n",
       "1   102         670               1      NORM              3  FEMALE   \n",
       "2   103         670               1      NORM              2    MALE   \n",
       "3   104         670               1      NORM              3  FEMALE   \n",
       "4   105         670               1      NORM              2    MALE   \n",
       "\n",
       "   empty_position status_room  \n",
       "0               2          OK  \n",
       "1               3          OK  \n",
       "2               2          OK  \n",
       "3               3          OK  \n",
       "4               2          OK  "
      ],
      "text/html": "<div>\n<style scoped>\n    .dataframe tbody tr th:only-of-type {\n        vertical-align: middle;\n    }\n\n    .dataframe tbody tr th {\n        vertical-align: top;\n    }\n\n    .dataframe thead th {\n        text-align: right;\n    }\n</style>\n<table border=\"1\" class=\"dataframe\">\n  <thead>\n    <tr style=\"text-align: right;\">\n      <th></th>\n      <th>room</th>\n      <th>price_room</th>\n      <th>numberDomitory</th>\n      <th>type_room</th>\n      <th>number_person</th>\n      <th>gender</th>\n      <th>empty_position</th>\n      <th>status_room</th>\n    </tr>\n  </thead>\n  <tbody>\n    <tr>\n      <th>0</th>\n      <td>101</td>\n      <td>670</td>\n      <td>1</td>\n      <td>NORM</td>\n      <td>2</td>\n      <td>MALE</td>\n      <td>2</td>\n      <td>OK</td>\n    </tr>\n    <tr>\n      <th>1</th>\n      <td>102</td>\n      <td>670</td>\n      <td>1</td>\n      <td>NORM</td>\n      <td>3</td>\n      <td>FEMALE</td>\n      <td>3</td>\n      <td>OK</td>\n    </tr>\n    <tr>\n      <th>2</th>\n      <td>103</td>\n      <td>670</td>\n      <td>1</td>\n      <td>NORM</td>\n      <td>2</td>\n      <td>MALE</td>\n      <td>2</td>\n      <td>OK</td>\n    </tr>\n    <tr>\n      <th>3</th>\n      <td>104</td>\n      <td>670</td>\n      <td>1</td>\n      <td>NORM</td>\n      <td>3</td>\n      <td>FEMALE</td>\n      <td>3</td>\n      <td>OK</td>\n    </tr>\n    <tr>\n      <th>4</th>\n      <td>105</td>\n      <td>670</td>\n      <td>1</td>\n      <td>NORM</td>\n      <td>2</td>\n      <td>MALE</td>\n      <td>2</td>\n      <td>OK</td>\n    </tr>\n  </tbody>\n</table>\n</div>"
     },
     "metadata": {},
     "execution_count": 5
    }
   ],
   "source": [
    "df.head()"
   ]
  },
  {
   "cell_type": "code",
   "execution_count": 6,
   "metadata": {},
   "outputs": [],
   "source": [
    "room = []\n",
    "for i in range(1,6):\n",
    "    room+= [k for k in range(1000+ i*100+1, 1000+100*i+30)] "
   ]
  },
  {
   "cell_type": "code",
   "execution_count": 7,
   "metadata": {},
   "outputs": [],
   "source": [
    "df_block = pd.DataFrame({'room':room})\n",
    "df_block['price_room'] = 1200\n",
    "df_block['numberDomitory'] = 1\n",
    "df_block['type_room'] = 'BLOCK'\n",
    "df_block['number_person'] = 2\n",
    "df_block['gender'] = df_block['room'].apply(lambda x: 'MALE' if x%2 else 'FEMALE')\n",
    "df_block['empty_position'] =  df_block['number_person']\n",
    "df_block['status_room'] = 'OK'"
   ]
  },
  {
   "cell_type": "code",
   "execution_count": 8,
   "metadata": {},
   "outputs": [
    {
     "output_type": "execute_result",
     "data": {
      "text/plain": [
       "   room  price_room  numberDomitory type_room  number_person  gender  \\\n",
       "0  1101        1200               1     BLOCK              2    MALE   \n",
       "1  1102        1200               1     BLOCK              2  FEMALE   \n",
       "2  1103        1200               1     BLOCK              2    MALE   \n",
       "3  1104        1200               1     BLOCK              2  FEMALE   \n",
       "4  1105        1200               1     BLOCK              2    MALE   \n",
       "\n",
       "   empty_position status_room  \n",
       "0               2          OK  \n",
       "1               2          OK  \n",
       "2               2          OK  \n",
       "3               2          OK  \n",
       "4               2          OK  "
      ],
      "text/html": "<div>\n<style scoped>\n    .dataframe tbody tr th:only-of-type {\n        vertical-align: middle;\n    }\n\n    .dataframe tbody tr th {\n        vertical-align: top;\n    }\n\n    .dataframe thead th {\n        text-align: right;\n    }\n</style>\n<table border=\"1\" class=\"dataframe\">\n  <thead>\n    <tr style=\"text-align: right;\">\n      <th></th>\n      <th>room</th>\n      <th>price_room</th>\n      <th>numberDomitory</th>\n      <th>type_room</th>\n      <th>number_person</th>\n      <th>gender</th>\n      <th>empty_position</th>\n      <th>status_room</th>\n    </tr>\n  </thead>\n  <tbody>\n    <tr>\n      <th>0</th>\n      <td>1101</td>\n      <td>1200</td>\n      <td>1</td>\n      <td>BLOCK</td>\n      <td>2</td>\n      <td>MALE</td>\n      <td>2</td>\n      <td>OK</td>\n    </tr>\n    <tr>\n      <th>1</th>\n      <td>1102</td>\n      <td>1200</td>\n      <td>1</td>\n      <td>BLOCK</td>\n      <td>2</td>\n      <td>FEMALE</td>\n      <td>2</td>\n      <td>OK</td>\n    </tr>\n    <tr>\n      <th>2</th>\n      <td>1103</td>\n      <td>1200</td>\n      <td>1</td>\n      <td>BLOCK</td>\n      <td>2</td>\n      <td>MALE</td>\n      <td>2</td>\n      <td>OK</td>\n    </tr>\n    <tr>\n      <th>3</th>\n      <td>1104</td>\n      <td>1200</td>\n      <td>1</td>\n      <td>BLOCK</td>\n      <td>2</td>\n      <td>FEMALE</td>\n      <td>2</td>\n      <td>OK</td>\n    </tr>\n    <tr>\n      <th>4</th>\n      <td>1105</td>\n      <td>1200</td>\n      <td>1</td>\n      <td>BLOCK</td>\n      <td>2</td>\n      <td>MALE</td>\n      <td>2</td>\n      <td>OK</td>\n    </tr>\n  </tbody>\n</table>\n</div>"
     },
     "metadata": {},
     "execution_count": 8
    }
   ],
   "source": [
    "df_block.head()"
   ]
  },
  {
   "cell_type": "code",
   "execution_count": 9,
   "metadata": {},
   "outputs": [],
   "source": [
    "df = pd.concat([df, df_block])"
   ]
  },
  {
   "cell_type": "code",
   "execution_count": 10,
   "metadata": {
    "tags": []
   },
   "outputs": [
    {
     "output_type": "execute_result",
     "data": {
      "text/plain": [
       "     room  price_room  numberDomitory type_room  number_person  gender  \\\n",
       "27    128         670               1      NORM              3  FEMALE   \n",
       "96    268         670               1      NORM              3  FEMALE   \n",
       "149   362         670               1      NORM              3  FEMALE   \n",
       "64   1307        1200               1     BLOCK              2    MALE   \n",
       "105   277         670               1      NORM              2    MALE   \n",
       "263   528         670               1      NORM              3  FEMALE   \n",
       "141   324         670               1      NORM              3  FEMALE   \n",
       "101   273         670               1      NORM              2    MALE   \n",
       "142   325         670               1      NORM              2    MALE   \n",
       "213   467         670               1      NORM              2    MALE   \n",
       "11    112         670               1      NORM              3  FEMALE   \n",
       "175   388         670               1      NORM              3  FEMALE   \n",
       "71   1314        1200               1     BLOCK              2  FEMALE   \n",
       "37   1209        1200               1     BLOCK              2    MALE   \n",
       "62   1305        1200               1     BLOCK              2    MALE   \n",
       "88    260         670               1      NORM              3  FEMALE   \n",
       "287   582         670               1      NORM              3  FEMALE   \n",
       "201   425         670               1      NORM              2    MALE   \n",
       "79   1322        1200               1     BLOCK              2  FEMALE   \n",
       "28    129         670               1      NORM              2    MALE   \n",
       "\n",
       "     empty_position status_room  \n",
       "27                3          OK  \n",
       "96                3          OK  \n",
       "149               3          OK  \n",
       "64                2          OK  \n",
       "105               2          OK  \n",
       "263               3          OK  \n",
       "141               3          OK  \n",
       "101               2          OK  \n",
       "142               2          OK  \n",
       "213               2          OK  \n",
       "11                3          OK  \n",
       "175               3          OK  \n",
       "71                2          OK  \n",
       "37                2          OK  \n",
       "62                2          OK  \n",
       "88                3          OK  \n",
       "287               3          OK  \n",
       "201               2          OK  \n",
       "79                2          OK  \n",
       "28                2          OK  "
      ],
      "text/html": "<div>\n<style scoped>\n    .dataframe tbody tr th:only-of-type {\n        vertical-align: middle;\n    }\n\n    .dataframe tbody tr th {\n        vertical-align: top;\n    }\n\n    .dataframe thead th {\n        text-align: right;\n    }\n</style>\n<table border=\"1\" class=\"dataframe\">\n  <thead>\n    <tr style=\"text-align: right;\">\n      <th></th>\n      <th>room</th>\n      <th>price_room</th>\n      <th>numberDomitory</th>\n      <th>type_room</th>\n      <th>number_person</th>\n      <th>gender</th>\n      <th>empty_position</th>\n      <th>status_room</th>\n    </tr>\n  </thead>\n  <tbody>\n    <tr>\n      <th>27</th>\n      <td>128</td>\n      <td>670</td>\n      <td>1</td>\n      <td>NORM</td>\n      <td>3</td>\n      <td>FEMALE</td>\n      <td>3</td>\n      <td>OK</td>\n    </tr>\n    <tr>\n      <th>96</th>\n      <td>268</td>\n      <td>670</td>\n      <td>1</td>\n      <td>NORM</td>\n      <td>3</td>\n      <td>FEMALE</td>\n      <td>3</td>\n      <td>OK</td>\n    </tr>\n    <tr>\n      <th>149</th>\n      <td>362</td>\n      <td>670</td>\n      <td>1</td>\n      <td>NORM</td>\n      <td>3</td>\n      <td>FEMALE</td>\n      <td>3</td>\n      <td>OK</td>\n    </tr>\n    <tr>\n      <th>64</th>\n      <td>1307</td>\n      <td>1200</td>\n      <td>1</td>\n      <td>BLOCK</td>\n      <td>2</td>\n      <td>MALE</td>\n      <td>2</td>\n      <td>OK</td>\n    </tr>\n    <tr>\n      <th>105</th>\n      <td>277</td>\n      <td>670</td>\n      <td>1</td>\n      <td>NORM</td>\n      <td>2</td>\n      <td>MALE</td>\n      <td>2</td>\n      <td>OK</td>\n    </tr>\n    <tr>\n      <th>263</th>\n      <td>528</td>\n      <td>670</td>\n      <td>1</td>\n      <td>NORM</td>\n      <td>3</td>\n      <td>FEMALE</td>\n      <td>3</td>\n      <td>OK</td>\n    </tr>\n    <tr>\n      <th>141</th>\n      <td>324</td>\n      <td>670</td>\n      <td>1</td>\n      <td>NORM</td>\n      <td>3</td>\n      <td>FEMALE</td>\n      <td>3</td>\n      <td>OK</td>\n    </tr>\n    <tr>\n      <th>101</th>\n      <td>273</td>\n      <td>670</td>\n      <td>1</td>\n      <td>NORM</td>\n      <td>2</td>\n      <td>MALE</td>\n      <td>2</td>\n      <td>OK</td>\n    </tr>\n    <tr>\n      <th>142</th>\n      <td>325</td>\n      <td>670</td>\n      <td>1</td>\n      <td>NORM</td>\n      <td>2</td>\n      <td>MALE</td>\n      <td>2</td>\n      <td>OK</td>\n    </tr>\n    <tr>\n      <th>213</th>\n      <td>467</td>\n      <td>670</td>\n      <td>1</td>\n      <td>NORM</td>\n      <td>2</td>\n      <td>MALE</td>\n      <td>2</td>\n      <td>OK</td>\n    </tr>\n    <tr>\n      <th>11</th>\n      <td>112</td>\n      <td>670</td>\n      <td>1</td>\n      <td>NORM</td>\n      <td>3</td>\n      <td>FEMALE</td>\n      <td>3</td>\n      <td>OK</td>\n    </tr>\n    <tr>\n      <th>175</th>\n      <td>388</td>\n      <td>670</td>\n      <td>1</td>\n      <td>NORM</td>\n      <td>3</td>\n      <td>FEMALE</td>\n      <td>3</td>\n      <td>OK</td>\n    </tr>\n    <tr>\n      <th>71</th>\n      <td>1314</td>\n      <td>1200</td>\n      <td>1</td>\n      <td>BLOCK</td>\n      <td>2</td>\n      <td>FEMALE</td>\n      <td>2</td>\n      <td>OK</td>\n    </tr>\n    <tr>\n      <th>37</th>\n      <td>1209</td>\n      <td>1200</td>\n      <td>1</td>\n      <td>BLOCK</td>\n      <td>2</td>\n      <td>MALE</td>\n      <td>2</td>\n      <td>OK</td>\n    </tr>\n    <tr>\n      <th>62</th>\n      <td>1305</td>\n      <td>1200</td>\n      <td>1</td>\n      <td>BLOCK</td>\n      <td>2</td>\n      <td>MALE</td>\n      <td>2</td>\n      <td>OK</td>\n    </tr>\n    <tr>\n      <th>88</th>\n      <td>260</td>\n      <td>670</td>\n      <td>1</td>\n      <td>NORM</td>\n      <td>3</td>\n      <td>FEMALE</td>\n      <td>3</td>\n      <td>OK</td>\n    </tr>\n    <tr>\n      <th>287</th>\n      <td>582</td>\n      <td>670</td>\n      <td>1</td>\n      <td>NORM</td>\n      <td>3</td>\n      <td>FEMALE</td>\n      <td>3</td>\n      <td>OK</td>\n    </tr>\n    <tr>\n      <th>201</th>\n      <td>425</td>\n      <td>670</td>\n      <td>1</td>\n      <td>NORM</td>\n      <td>2</td>\n      <td>MALE</td>\n      <td>2</td>\n      <td>OK</td>\n    </tr>\n    <tr>\n      <th>79</th>\n      <td>1322</td>\n      <td>1200</td>\n      <td>1</td>\n      <td>BLOCK</td>\n      <td>2</td>\n      <td>FEMALE</td>\n      <td>2</td>\n      <td>OK</td>\n    </tr>\n    <tr>\n      <th>28</th>\n      <td>129</td>\n      <td>670</td>\n      <td>1</td>\n      <td>NORM</td>\n      <td>2</td>\n      <td>MALE</td>\n      <td>2</td>\n      <td>OK</td>\n    </tr>\n  </tbody>\n</table>\n</div>"
     },
     "metadata": {},
     "execution_count": 10
    }
   ],
   "source": [
    "df.sample(20)"
   ]
  },
  {
   "cell_type": "code",
   "execution_count": 11,
   "metadata": {},
   "outputs": [],
   "source": [
    "df2 = df.copy()\n",
    "df2['numberDomitory'] = 2\n",
    "df3 = df.copy()\n",
    "df3['numberDomitory'] = 3"
   ]
  },
  {
   "cell_type": "code",
   "execution_count": 12,
   "metadata": {},
   "outputs": [],
   "source": [
    "df = pd.concat([df, df2,df3])"
   ]
  },
  {
   "cell_type": "code",
   "execution_count": 13,
   "metadata": {},
   "outputs": [
    {
     "output_type": "execute_result",
     "data": {
      "text/plain": [
       "     room  price_room  numberDomitory type_room  number_person  gender  \\\n",
       "95    267         670               3      NORM              2    MALE   \n",
       "21   1122        1200               2     BLOCK              2  FEMALE   \n",
       "51   1223        1200               2     BLOCK              2    MALE   \n",
       "204   428         670               3      NORM              3  FEMALE   \n",
       "160   373         670               1      NORM              2    MALE   \n",
       "50    181         670               1      NORM              2    MALE   \n",
       "15    116         670               2      NORM              3  FEMALE   \n",
       "272   567         670               3      NORM              2    MALE   \n",
       "245   510         670               2      NORM              3  FEMALE   \n",
       "231   485         670               1      NORM              2    MALE   \n",
       "134  1519        1200               3     BLOCK              2    MALE   \n",
       "230   484         670               1      NORM              3  FEMALE   \n",
       "140  1525        1200               1     BLOCK              2    MALE   \n",
       "28   1129        1200               2     BLOCK              2    MALE   \n",
       "0     101         670               1      NORM              2    MALE   \n",
       "70   1313        1200               1     BLOCK              2    MALE   \n",
       "99   1413        1200               2     BLOCK              2    MALE   \n",
       "100   272         670               2      NORM              3  FEMALE   \n",
       "176   389         670               1      NORM              2    MALE   \n",
       "89   1403        1200               2     BLOCK              2    MALE   \n",
       "\n",
       "     empty_position status_room  \n",
       "95                2          OK  \n",
       "21                2          OK  \n",
       "51                2          OK  \n",
       "204               3          OK  \n",
       "160               2          OK  \n",
       "50                2          OK  \n",
       "15                3          OK  \n",
       "272               2          OK  \n",
       "245               3          OK  \n",
       "231               2          OK  \n",
       "134               2          OK  \n",
       "230               3          OK  \n",
       "140               2          OK  \n",
       "28                2          OK  \n",
       "0                 2          OK  \n",
       "70                2          OK  \n",
       "99                2          OK  \n",
       "100               3          OK  \n",
       "176               2          OK  \n",
       "89                2          OK  "
      ],
      "text/html": "<div>\n<style scoped>\n    .dataframe tbody tr th:only-of-type {\n        vertical-align: middle;\n    }\n\n    .dataframe tbody tr th {\n        vertical-align: top;\n    }\n\n    .dataframe thead th {\n        text-align: right;\n    }\n</style>\n<table border=\"1\" class=\"dataframe\">\n  <thead>\n    <tr style=\"text-align: right;\">\n      <th></th>\n      <th>room</th>\n      <th>price_room</th>\n      <th>numberDomitory</th>\n      <th>type_room</th>\n      <th>number_person</th>\n      <th>gender</th>\n      <th>empty_position</th>\n      <th>status_room</th>\n    </tr>\n  </thead>\n  <tbody>\n    <tr>\n      <th>95</th>\n      <td>267</td>\n      <td>670</td>\n      <td>3</td>\n      <td>NORM</td>\n      <td>2</td>\n      <td>MALE</td>\n      <td>2</td>\n      <td>OK</td>\n    </tr>\n    <tr>\n      <th>21</th>\n      <td>1122</td>\n      <td>1200</td>\n      <td>2</td>\n      <td>BLOCK</td>\n      <td>2</td>\n      <td>FEMALE</td>\n      <td>2</td>\n      <td>OK</td>\n    </tr>\n    <tr>\n      <th>51</th>\n      <td>1223</td>\n      <td>1200</td>\n      <td>2</td>\n      <td>BLOCK</td>\n      <td>2</td>\n      <td>MALE</td>\n      <td>2</td>\n      <td>OK</td>\n    </tr>\n    <tr>\n      <th>204</th>\n      <td>428</td>\n      <td>670</td>\n      <td>3</td>\n      <td>NORM</td>\n      <td>3</td>\n      <td>FEMALE</td>\n      <td>3</td>\n      <td>OK</td>\n    </tr>\n    <tr>\n      <th>160</th>\n      <td>373</td>\n      <td>670</td>\n      <td>1</td>\n      <td>NORM</td>\n      <td>2</td>\n      <td>MALE</td>\n      <td>2</td>\n      <td>OK</td>\n    </tr>\n    <tr>\n      <th>50</th>\n      <td>181</td>\n      <td>670</td>\n      <td>1</td>\n      <td>NORM</td>\n      <td>2</td>\n      <td>MALE</td>\n      <td>2</td>\n      <td>OK</td>\n    </tr>\n    <tr>\n      <th>15</th>\n      <td>116</td>\n      <td>670</td>\n      <td>2</td>\n      <td>NORM</td>\n      <td>3</td>\n      <td>FEMALE</td>\n      <td>3</td>\n      <td>OK</td>\n    </tr>\n    <tr>\n      <th>272</th>\n      <td>567</td>\n      <td>670</td>\n      <td>3</td>\n      <td>NORM</td>\n      <td>2</td>\n      <td>MALE</td>\n      <td>2</td>\n      <td>OK</td>\n    </tr>\n    <tr>\n      <th>245</th>\n      <td>510</td>\n      <td>670</td>\n      <td>2</td>\n      <td>NORM</td>\n      <td>3</td>\n      <td>FEMALE</td>\n      <td>3</td>\n      <td>OK</td>\n    </tr>\n    <tr>\n      <th>231</th>\n      <td>485</td>\n      <td>670</td>\n      <td>1</td>\n      <td>NORM</td>\n      <td>2</td>\n      <td>MALE</td>\n      <td>2</td>\n      <td>OK</td>\n    </tr>\n    <tr>\n      <th>134</th>\n      <td>1519</td>\n      <td>1200</td>\n      <td>3</td>\n      <td>BLOCK</td>\n      <td>2</td>\n      <td>MALE</td>\n      <td>2</td>\n      <td>OK</td>\n    </tr>\n    <tr>\n      <th>230</th>\n      <td>484</td>\n      <td>670</td>\n      <td>1</td>\n      <td>NORM</td>\n      <td>3</td>\n      <td>FEMALE</td>\n      <td>3</td>\n      <td>OK</td>\n    </tr>\n    <tr>\n      <th>140</th>\n      <td>1525</td>\n      <td>1200</td>\n      <td>1</td>\n      <td>BLOCK</td>\n      <td>2</td>\n      <td>MALE</td>\n      <td>2</td>\n      <td>OK</td>\n    </tr>\n    <tr>\n      <th>28</th>\n      <td>1129</td>\n      <td>1200</td>\n      <td>2</td>\n      <td>BLOCK</td>\n      <td>2</td>\n      <td>MALE</td>\n      <td>2</td>\n      <td>OK</td>\n    </tr>\n    <tr>\n      <th>0</th>\n      <td>101</td>\n      <td>670</td>\n      <td>1</td>\n      <td>NORM</td>\n      <td>2</td>\n      <td>MALE</td>\n      <td>2</td>\n      <td>OK</td>\n    </tr>\n    <tr>\n      <th>70</th>\n      <td>1313</td>\n      <td>1200</td>\n      <td>1</td>\n      <td>BLOCK</td>\n      <td>2</td>\n      <td>MALE</td>\n      <td>2</td>\n      <td>OK</td>\n    </tr>\n    <tr>\n      <th>99</th>\n      <td>1413</td>\n      <td>1200</td>\n      <td>2</td>\n      <td>BLOCK</td>\n      <td>2</td>\n      <td>MALE</td>\n      <td>2</td>\n      <td>OK</td>\n    </tr>\n    <tr>\n      <th>100</th>\n      <td>272</td>\n      <td>670</td>\n      <td>2</td>\n      <td>NORM</td>\n      <td>3</td>\n      <td>FEMALE</td>\n      <td>3</td>\n      <td>OK</td>\n    </tr>\n    <tr>\n      <th>176</th>\n      <td>389</td>\n      <td>670</td>\n      <td>1</td>\n      <td>NORM</td>\n      <td>2</td>\n      <td>MALE</td>\n      <td>2</td>\n      <td>OK</td>\n    </tr>\n    <tr>\n      <th>89</th>\n      <td>1403</td>\n      <td>1200</td>\n      <td>2</td>\n      <td>BLOCK</td>\n      <td>2</td>\n      <td>MALE</td>\n      <td>2</td>\n      <td>OK</td>\n    </tr>\n  </tbody>\n</table>\n</div>"
     },
     "metadata": {},
     "execution_count": 13
    }
   ],
   "source": [
    "df.sample(20)"
   ]
  },
  {
   "cell_type": "code",
   "execution_count": 16,
   "metadata": {},
   "outputs": [],
   "source": [
    "from sqlalchemy import create_engine\n",
    "\n",
    "disk_engine = create_engine('sqlite:///rooms.sqlite')\n",
    "df.to_sql(name='rooms', con=disk_engine,if_exists='append',  index=False)"
   ]
  },
  {
   "cell_type": "code",
   "execution_count": 15,
   "metadata": {},
   "outputs": [
    {
     "output_type": "stream",
     "name": "stdout",
     "text": [
      "Defaulting to user installation because normal site-packages is not writeable\n",
      "Collecting sqlalchemy\n",
      "  Using cached SQLAlchemy-1.3.20-cp38-cp38-manylinux2010_x86_64.whl (1.3 MB)\n",
      "Installing collected packages: sqlalchemy\n",
      "Successfully installed sqlalchemy-1.3.20\n"
     ]
    }
   ],
   "source": [
    "!pip install sqlalchemy"
   ]
  },
  {
   "cell_type": "code",
   "execution_count": null,
   "metadata": {},
   "outputs": [],
   "source": []
  }
 ]
}